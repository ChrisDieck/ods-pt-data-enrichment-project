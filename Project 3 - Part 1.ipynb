{
 "cells": [
  {
   "cell_type": "code",
   "execution_count": 1,
   "id": "d68d7aac",
   "metadata": {},
   "outputs": [],
   "source": [
    "#Imports\n",
    "import pandas as pd\n",
    "import numpy as np"
   ]
  },
  {
   "cell_type": "markdown",
   "id": "6c83c2eb",
   "metadata": {},
   "source": [
    "# Loading Data"
   ]
  },
  {
   "cell_type": "code",
   "execution_count": 2,
   "id": "2dbc5b97",
   "metadata": {},
   "outputs": [],
   "source": [
    "title_akas_url='https://datasets.imdbws.com/title.akas.tsv.gz'\n",
    "title_basics_url='https://datasets.imdbws.com/title.basics.tsv.gz'\n",
    "title_ratings_url='https://datasets.imdbws.com/title.ratings.tsv.gz'"
   ]
  },
  {
   "cell_type": "code",
   "execution_count": 3,
   "id": "07f497e9",
   "metadata": {},
   "outputs": [],
   "source": [
    "akas = pd.read_csv(title_akas_url,sep='\\t', low_memory=False)\n",
    "basics = pd.read_csv(title_basics_url,sep='\\t', low_memory=False)\n",
    "ratings = pd.read_csv(title_ratings_url,sep='\\t', low_memory=False)"
   ]
  },
  {
   "cell_type": "code",
   "execution_count": 4,
   "id": "78acbb50",
   "metadata": {
    "scrolled": true
   },
   "outputs": [
    {
     "data": {
      "text/html": [
       "<div>\n",
       "<style scoped>\n",
       "    .dataframe tbody tr th:only-of-type {\n",
       "        vertical-align: middle;\n",
       "    }\n",
       "\n",
       "    .dataframe tbody tr th {\n",
       "        vertical-align: top;\n",
       "    }\n",
       "\n",
       "    .dataframe thead th {\n",
       "        text-align: right;\n",
       "    }\n",
       "</style>\n",
       "<table border=\"1\" class=\"dataframe\">\n",
       "  <thead>\n",
       "    <tr style=\"text-align: right;\">\n",
       "      <th></th>\n",
       "      <th>titleId</th>\n",
       "      <th>ordering</th>\n",
       "      <th>title</th>\n",
       "      <th>region</th>\n",
       "      <th>language</th>\n",
       "      <th>types</th>\n",
       "      <th>attributes</th>\n",
       "      <th>isOriginalTitle</th>\n",
       "    </tr>\n",
       "  </thead>\n",
       "  <tbody>\n",
       "    <tr>\n",
       "      <th>0</th>\n",
       "      <td>tt0000001</td>\n",
       "      <td>1</td>\n",
       "      <td>Карменсіта</td>\n",
       "      <td>UA</td>\n",
       "      <td>\\N</td>\n",
       "      <td>imdbDisplay</td>\n",
       "      <td>\\N</td>\n",
       "      <td>0</td>\n",
       "    </tr>\n",
       "    <tr>\n",
       "      <th>1</th>\n",
       "      <td>tt0000001</td>\n",
       "      <td>2</td>\n",
       "      <td>Carmencita</td>\n",
       "      <td>DE</td>\n",
       "      <td>\\N</td>\n",
       "      <td>\\N</td>\n",
       "      <td>literal title</td>\n",
       "      <td>0</td>\n",
       "    </tr>\n",
       "    <tr>\n",
       "      <th>2</th>\n",
       "      <td>tt0000001</td>\n",
       "      <td>3</td>\n",
       "      <td>Carmencita - spanyol tánc</td>\n",
       "      <td>HU</td>\n",
       "      <td>\\N</td>\n",
       "      <td>imdbDisplay</td>\n",
       "      <td>\\N</td>\n",
       "      <td>0</td>\n",
       "    </tr>\n",
       "    <tr>\n",
       "      <th>3</th>\n",
       "      <td>tt0000001</td>\n",
       "      <td>4</td>\n",
       "      <td>Καρμενσίτα</td>\n",
       "      <td>GR</td>\n",
       "      <td>\\N</td>\n",
       "      <td>imdbDisplay</td>\n",
       "      <td>\\N</td>\n",
       "      <td>0</td>\n",
       "    </tr>\n",
       "    <tr>\n",
       "      <th>4</th>\n",
       "      <td>tt0000001</td>\n",
       "      <td>5</td>\n",
       "      <td>Карменсита</td>\n",
       "      <td>RU</td>\n",
       "      <td>\\N</td>\n",
       "      <td>imdbDisplay</td>\n",
       "      <td>\\N</td>\n",
       "      <td>0</td>\n",
       "    </tr>\n",
       "  </tbody>\n",
       "</table>\n",
       "</div>"
      ],
      "text/plain": [
       "     titleId  ordering                      title region language  \\\n",
       "0  tt0000001         1                 Карменсіта     UA       \\N   \n",
       "1  tt0000001         2                 Carmencita     DE       \\N   \n",
       "2  tt0000001         3  Carmencita - spanyol tánc     HU       \\N   \n",
       "3  tt0000001         4                 Καρμενσίτα     GR       \\N   \n",
       "4  tt0000001         5                 Карменсита     RU       \\N   \n",
       "\n",
       "         types     attributes isOriginalTitle  \n",
       "0  imdbDisplay             \\N               0  \n",
       "1           \\N  literal title               0  \n",
       "2  imdbDisplay             \\N               0  \n",
       "3  imdbDisplay             \\N               0  \n",
       "4  imdbDisplay             \\N               0  "
      ]
     },
     "execution_count": 4,
     "metadata": {},
     "output_type": "execute_result"
    }
   ],
   "source": [
    "akas.head()"
   ]
  },
  {
   "cell_type": "markdown",
   "id": "95632e34",
   "metadata": {},
   "source": [
    "# Checking/Fixing \\N Placeholder Values"
   ]
  },
  {
   "cell_type": "code",
   "execution_count": 5,
   "id": "d829b5f5",
   "metadata": {},
   "outputs": [
    {
     "data": {
      "text/plain": [
       "tconst             0\n",
       "titleType          0\n",
       "primaryTitle      10\n",
       "originalTitle     10\n",
       "isAdult            0\n",
       "startYear          0\n",
       "endYear            0\n",
       "runtimeMinutes     0\n",
       "genres            10\n",
       "dtype: int64"
      ]
     },
     "execution_count": 5,
     "metadata": {},
     "output_type": "execute_result"
    }
   ],
   "source": [
    "basics.isna().sum()"
   ]
  },
  {
   "cell_type": "code",
   "execution_count": 6,
   "id": "06ea27bd",
   "metadata": {},
   "outputs": [
    {
     "data": {
      "text/plain": [
       "titleId              0\n",
       "ordering             0\n",
       "title                5\n",
       "region             105\n",
       "language             0\n",
       "types                0\n",
       "attributes           0\n",
       "isOriginalTitle      0\n",
       "dtype: int64"
      ]
     },
     "execution_count": 6,
     "metadata": {},
     "output_type": "execute_result"
    }
   ],
   "source": [
    "akas.isna().sum()"
   ]
  },
  {
   "cell_type": "code",
   "execution_count": 7,
   "id": "a543f81c",
   "metadata": {},
   "outputs": [
    {
     "data": {
      "text/plain": [
       "tconst           0\n",
       "averageRating    0\n",
       "numVotes         0\n",
       "dtype: int64"
      ]
     },
     "execution_count": 7,
     "metadata": {},
     "output_type": "execute_result"
    }
   ],
   "source": [
    "ratings.isna().sum()"
   ]
  },
  {
   "cell_type": "code",
   "execution_count": 8,
   "id": "3cdc3f43",
   "metadata": {},
   "outputs": [],
   "source": [
    "#Handling \\N placeholder values\n",
    "basics.replace({'\\\\N':np.nan}, inplace=True)\n",
    "akas.replace({'\\\\N':np.nan}, inplace=True)"
   ]
  },
  {
   "cell_type": "code",
   "execution_count": 9,
   "id": "e966298f",
   "metadata": {},
   "outputs": [
    {
     "data": {
      "text/plain": [
       "tconst                  0\n",
       "titleType               0\n",
       "primaryTitle           10\n",
       "originalTitle          10\n",
       "isAdult                 1\n",
       "startYear         1211857\n",
       "endYear           9054035\n",
       "runtimeMinutes    6689466\n",
       "genres             416048\n",
       "dtype: int64"
      ]
     },
     "execution_count": 9,
     "metadata": {},
     "output_type": "execute_result"
    }
   ],
   "source": [
    "#sanity checking dataframes\n",
    "basics.isna().sum()"
   ]
  },
  {
   "cell_type": "markdown",
   "id": "999abdfb",
   "metadata": {},
   "source": [
    "akas.isna().sum()"
   ]
  },
  {
   "cell_type": "markdown",
   "id": "c5989323",
   "metadata": {},
   "source": [
    "# Preprocessing Dataframes"
   ]
  },
  {
   "cell_type": "markdown",
   "id": "0673a432",
   "metadata": {},
   "source": [
    "## Basics"
   ]
  },
  {
   "cell_type": "code",
   "execution_count": 34,
   "id": "a92fe9ca",
   "metadata": {},
   "outputs": [
    {
     "name": "stdout",
     "output_type": "stream",
     "text": [
      "<class 'pandas.core.frame.DataFrame'>\n",
      "Int64Index: 366291 entries, 8 to 9149120\n",
      "Data columns (total 9 columns):\n",
      " #   Column          Non-Null Count   Dtype \n",
      "---  ------          --------------   ----- \n",
      " 0   tconst          366291 non-null  object\n",
      " 1   titleType       366291 non-null  object\n",
      " 2   primaryTitle    366291 non-null  object\n",
      " 3   originalTitle   366291 non-null  object\n",
      " 4   isAdult         366291 non-null  object\n",
      " 5   startYear       360492 non-null  object\n",
      " 6   endYear         0 non-null       object\n",
      " 7   runtimeMinutes  366291 non-null  object\n",
      " 8   genres          366291 non-null  object\n",
      "dtypes: object(9)\n",
      "memory usage: 27.9+ MB\n"
     ]
    }
   ],
   "source": [
    "basics.info()"
   ]
  },
  {
   "cell_type": "markdown",
   "id": "42beeba7",
   "metadata": {},
   "source": [
    "### Eliminating movies that are null for runtimeMinutes"
   ]
  },
  {
   "cell_type": "code",
   "execution_count": 13,
   "id": "6a2c11eb",
   "metadata": {},
   "outputs": [
    {
     "data": {
      "text/plain": [
       "0"
      ]
     },
     "execution_count": 13,
     "metadata": {},
     "output_type": "execute_result"
    }
   ],
   "source": [
    "basics = basics.dropna(axis=0, subset=['runtimeMinutes'])\n",
    "basics['runtimeMinutes'].isna().sum()"
   ]
  },
  {
   "cell_type": "code",
   "execution_count": 15,
   "id": "2636a8eb",
   "metadata": {},
   "outputs": [
    {
     "data": {
      "text/plain": [
       "tconst                  0\n",
       "titleType               0\n",
       "primaryTitle            1\n",
       "originalTitle           1\n",
       "isAdult                 1\n",
       "startYear           37591\n",
       "endYear           2413206\n",
       "runtimeMinutes          0\n",
       "genres              67284\n",
       "dtype: int64"
      ]
     },
     "execution_count": 15,
     "metadata": {},
     "output_type": "execute_result"
    }
   ],
   "source": [
    "basics.isna().sum()"
   ]
  },
  {
   "cell_type": "code",
   "execution_count": 20,
   "id": "b29872db",
   "metadata": {},
   "outputs": [
    {
     "data": {
      "text/plain": [
       "0"
      ]
     },
     "execution_count": 20,
     "metadata": {},
     "output_type": "execute_result"
    }
   ],
   "source": [
    "### Eliminating movies that are null for genre\n",
    "basics = basics.dropna(axis=0, subset=['genres'])\n",
    "basics['genres'].isna().sum()"
   ]
  },
  {
   "cell_type": "markdown",
   "id": "ee650c0d",
   "metadata": {},
   "source": [
    "### Keeping only titleType==Movie"
   ]
  },
  {
   "cell_type": "code",
   "execution_count": 21,
   "id": "8f8b6388",
   "metadata": {},
   "outputs": [
    {
     "data": {
      "text/plain": [
       "tvEpisode       1061461\n",
       "short            573177\n",
       "movie            366291\n",
       "video            174788\n",
       "tvMovie           88216\n",
       "tvSeries          86381\n",
       "tvSpecial         16432\n",
       "tvMiniSeries      16008\n",
       "tvShort            9372\n",
       "videoGame           294\n",
       "Name: titleType, dtype: int64"
      ]
     },
     "execution_count": 21,
     "metadata": {},
     "output_type": "execute_result"
    }
   ],
   "source": [
    "#checking value counts\n",
    "basics['titleType'].value_counts()"
   ]
  },
  {
   "cell_type": "code",
   "execution_count": 29,
   "id": "a1f65078",
   "metadata": {},
   "outputs": [
    {
     "data": {
      "text/plain": [
       "movie    366291\n",
       "Name: titleType, dtype: int64"
      ]
     },
     "execution_count": 29,
     "metadata": {},
     "output_type": "execute_result"
    }
   ],
   "source": [
    "#applying filter to only show movies\n",
    "movie_filter = basics['titleType']=='movie'\n",
    "\n",
    "#filtering dataframe\n",
    "basics = basics[movie_filter]\n",
    "\n",
    "#sanity checking\n",
    "basics['titleType'].value_counts()"
   ]
  },
  {
   "cell_type": "markdown",
   "id": "1049d21f",
   "metadata": {},
   "source": [
    "### Keeping startYear 2000-2022"
   ]
  },
  {
   "cell_type": "code",
   "execution_count": 30,
   "id": "60966ef5",
   "metadata": {},
   "outputs": [
    {
     "data": {
      "text/plain": [
       "2017    14179\n",
       "2018    14119\n",
       "2016    13810\n",
       "2019    13788\n",
       "2015    13320\n",
       "        ...  \n",
       "1894        1\n",
       "1899        1\n",
       "1904        1\n",
       "1906        1\n",
       "1896        1\n",
       "Name: startYear, Length: 129, dtype: int64"
      ]
     },
     "execution_count": 30,
     "metadata": {},
     "output_type": "execute_result"
    }
   ],
   "source": [
    "basics['startYear'].value_counts()"
   ]
  },
  {
   "cell_type": "code",
   "execution_count": 35,
   "id": "8992e94f",
   "metadata": {},
   "outputs": [],
   "source": [
    "#applying filter to only have movies that started between 2000-2022\n",
    "basics = basics[(basics['startYear'] >= '2000') & (basics['startYear'] <= '2022')]"
   ]
  },
  {
   "cell_type": "code",
   "execution_count": 36,
   "id": "fa5e120e",
   "metadata": {},
   "outputs": [
    {
     "data": {
      "text/plain": [
       "2017    14179\n",
       "2018    14119\n",
       "2016    13810\n",
       "2019    13788\n",
       "2015    13320\n",
       "2014    12980\n",
       "2013    12264\n",
       "2021    11692\n",
       "2012    11534\n",
       "2020    11243\n",
       "2011    10672\n",
       "2010    10115\n",
       "2009     9261\n",
       "2008     8067\n",
       "2022     7389\n",
       "2007     6878\n",
       "2006     6425\n",
       "2005     5760\n",
       "2004     5127\n",
       "2003     4526\n",
       "2002     4084\n",
       "2001     3810\n",
       "2000     3591\n",
       "Name: startYear, dtype: int64"
      ]
     },
     "execution_count": 36,
     "metadata": {},
     "output_type": "execute_result"
    }
   ],
   "source": [
    "#checking results\n",
    "basics['startYear'].value_counts()"
   ]
  },
  {
   "cell_type": "markdown",
   "id": "0d55e41b",
   "metadata": {},
   "source": [
    "### Eliminate movies that include \"Documentary\" in genre"
   ]
  },
  {
   "cell_type": "code",
   "execution_count": 38,
   "id": "5e65d42a",
   "metadata": {},
   "outputs": [
    {
     "data": {
      "text/plain": [
       "Documentary                   50676\n",
       "Drama                         34691\n",
       "Comedy                        13089\n",
       "Comedy,Drama                   6244\n",
       "Horror                         5590\n",
       "                              ...  \n",
       "Action,Music,Sci-Fi               1\n",
       "Drama,Mystery,Short               1\n",
       "Adventure,Reality-TV,Sport        1\n",
       "Biography,Comedy,War              1\n",
       "Crime,Fantasy,Sci-Fi              1\n",
       "Name: genres, Length: 1184, dtype: int64"
      ]
     },
     "execution_count": 38,
     "metadata": {},
     "output_type": "execute_result"
    }
   ],
   "source": [
    "basics['genres'].value_counts()"
   ]
  },
  {
   "cell_type": "code",
   "execution_count": 39,
   "id": "ac7845f7",
   "metadata": {},
   "outputs": [
    {
     "data": {
      "text/plain": [
       "Drama                      34691\n",
       "Comedy                     13089\n",
       "Comedy,Drama                6244\n",
       "Horror                      5590\n",
       "Drama,Romance               4159\n",
       "                           ...  \n",
       "Comedy,Game-Show               1\n",
       "Horror,Music,Mystery           1\n",
       "Drama,Musical,Sport            1\n",
       "Adventure,History,Music        1\n",
       "Crime,Fantasy,Sci-Fi           1\n",
       "Name: genres, Length: 966, dtype: int64"
      ]
     },
     "execution_count": 39,
     "metadata": {},
     "output_type": "execute_result"
    }
   ],
   "source": [
    "# Excluding movies that are included in the documentary category.\n",
    "is_documentary = basics['genres'].str.contains('documentary',case=False)\n",
    "basics = basics[~is_documentary]\n",
    "basics['genres'].value_counts()"
   ]
  },
  {
   "cell_type": "code",
   "execution_count": null,
   "id": "b8e6682e",
   "metadata": {},
   "outputs": [],
   "source": []
  }
 ],
 "metadata": {
  "kernelspec": {
   "display_name": "Python (dojo-env)",
   "language": "python",
   "name": "dojo-env"
  },
  "language_info": {
   "codemirror_mode": {
    "name": "ipython",
    "version": 3
   },
   "file_extension": ".py",
   "mimetype": "text/x-python",
   "name": "python",
   "nbconvert_exporter": "python",
   "pygments_lexer": "ipython3",
   "version": "3.9.12"
  },
  "toc": {
   "base_numbering": 1,
   "nav_menu": {},
   "number_sections": true,
   "sideBar": true,
   "skip_h1_title": false,
   "title_cell": "Table of Contents",
   "title_sidebar": "Contents",
   "toc_cell": false,
   "toc_position": {},
   "toc_section_display": true,
   "toc_window_display": false
  }
 },
 "nbformat": 4,
 "nbformat_minor": 5
}
