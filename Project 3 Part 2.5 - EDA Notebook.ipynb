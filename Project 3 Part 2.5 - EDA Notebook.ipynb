{
 "cells": [
  {
   "cell_type": "markdown",
   "id": "5741fcc3",
   "metadata": {},
   "source": [
    "# Exploratory Data Analysis"
   ]
  },
  {
   "cell_type": "markdown",
   "id": "c949a291",
   "metadata": {},
   "source": [
    "## Preparing for EDA"
   ]
  },
  {
   "cell_type": "markdown",
   "id": "ef4e2334",
   "metadata": {},
   "source": [
    "### Loading in json files and saving them as csv.gz files"
   ]
  },
  {
   "cell_type": "code",
   "execution_count": 1,
   "id": "94a823f6",
   "metadata": {},
   "outputs": [],
   "source": [
    "# Imports\n",
    "import pandas as pd\n",
    "import seaborn as sns\n",
    "import matplotlib.pyplot as plt\n",
    "import numpy as np\n",
    "import os, time, json\n",
    "from sqlalchemy import create_engine"
   ]
  },
  {
   "cell_type": "code",
   "execution_count": 2,
   "id": "3fe82d31",
   "metadata": {},
   "outputs": [],
   "source": [
    "#Saving all .json files from loop in part 2 as .csv.gz files\n",
    "\n",
    "YEARS = range(2000,2023)\n",
    "\n",
    "for YEAR in YEARS:\n",
    "    \n",
    "    #Defining the JSON file to store results for year\n",
    "    JSON_FILE = f'Data/tmdb_api_results_{YEAR}.json'\n",
    "    \n",
    "    #Saving as .csv.gz\n",
    "    final_year_df = pd.read_json(JSON_FILE)\n",
    "    final_year_df.to_csv(f\"Data/final_tmdb_data_{YEAR}.csv.gz\",\n",
    "                         compression=\"gzip\", index=False)"
   ]
  },
  {
   "cell_type": "code",
   "execution_count": 3,
   "id": "0e484f75",
   "metadata": {
    "scrolled": true
   },
   "outputs": [
    {
     "data": {
      "text/html": [
       "<div>\n",
       "<style scoped>\n",
       "    .dataframe tbody tr th:only-of-type {\n",
       "        vertical-align: middle;\n",
       "    }\n",
       "\n",
       "    .dataframe tbody tr th {\n",
       "        vertical-align: top;\n",
       "    }\n",
       "\n",
       "    .dataframe thead th {\n",
       "        text-align: right;\n",
       "    }\n",
       "</style>\n",
       "<table border=\"1\" class=\"dataframe\">\n",
       "  <thead>\n",
       "    <tr style=\"text-align: right;\">\n",
       "      <th></th>\n",
       "      <th>imdb_id</th>\n",
       "      <th>adult</th>\n",
       "      <th>backdrop_path</th>\n",
       "      <th>belongs_to_collection</th>\n",
       "      <th>budget</th>\n",
       "      <th>genres</th>\n",
       "      <th>homepage</th>\n",
       "      <th>id</th>\n",
       "      <th>original_language</th>\n",
       "      <th>original_title</th>\n",
       "      <th>...</th>\n",
       "      <th>revenue</th>\n",
       "      <th>runtime</th>\n",
       "      <th>spoken_languages</th>\n",
       "      <th>status</th>\n",
       "      <th>tagline</th>\n",
       "      <th>title</th>\n",
       "      <th>video</th>\n",
       "      <th>vote_average</th>\n",
       "      <th>vote_count</th>\n",
       "      <th>certification</th>\n",
       "    </tr>\n",
       "  </thead>\n",
       "  <tbody>\n",
       "    <tr>\n",
       "      <th>0</th>\n",
       "      <td>0</td>\n",
       "      <td>NaN</td>\n",
       "      <td>NaN</td>\n",
       "      <td>NaN</td>\n",
       "      <td>NaN</td>\n",
       "      <td>NaN</td>\n",
       "      <td>NaN</td>\n",
       "      <td>NaN</td>\n",
       "      <td>NaN</td>\n",
       "      <td>NaN</td>\n",
       "      <td>...</td>\n",
       "      <td>NaN</td>\n",
       "      <td>NaN</td>\n",
       "      <td>NaN</td>\n",
       "      <td>NaN</td>\n",
       "      <td>NaN</td>\n",
       "      <td>NaN</td>\n",
       "      <td>NaN</td>\n",
       "      <td>NaN</td>\n",
       "      <td>NaN</td>\n",
       "      <td>NaN</td>\n",
       "    </tr>\n",
       "    <tr>\n",
       "      <th>1</th>\n",
       "      <td>tt0113026</td>\n",
       "      <td>0.0</td>\n",
       "      <td>/vMFs7nw6P0bIV1jDsQpxAieAVnH.jpg</td>\n",
       "      <td>NaN</td>\n",
       "      <td>10000000.0</td>\n",
       "      <td>[{'id': 35, 'name': 'Comedy'}, {'id': 10402, '...</td>\n",
       "      <td>NaN</td>\n",
       "      <td>62127.0</td>\n",
       "      <td>en</td>\n",
       "      <td>The Fantasticks</td>\n",
       "      <td>...</td>\n",
       "      <td>0.0</td>\n",
       "      <td>86.0</td>\n",
       "      <td>[{'english_name': 'English', 'iso_639_1': 'en'...</td>\n",
       "      <td>Released</td>\n",
       "      <td>Try to remember the first time magic happened</td>\n",
       "      <td>The Fantasticks</td>\n",
       "      <td>0.0</td>\n",
       "      <td>5.5</td>\n",
       "      <td>22.0</td>\n",
       "      <td>NaN</td>\n",
       "    </tr>\n",
       "  </tbody>\n",
       "</table>\n",
       "<p>2 rows × 26 columns</p>\n",
       "</div>"
      ],
      "text/plain": [
       "     imdb_id  adult                     backdrop_path belongs_to_collection  \\\n",
       "0          0    NaN                               NaN                   NaN   \n",
       "1  tt0113026    0.0  /vMFs7nw6P0bIV1jDsQpxAieAVnH.jpg                   NaN   \n",
       "\n",
       "       budget                                             genres homepage  \\\n",
       "0         NaN                                                NaN      NaN   \n",
       "1  10000000.0  [{'id': 35, 'name': 'Comedy'}, {'id': 10402, '...      NaN   \n",
       "\n",
       "        id original_language   original_title  ... revenue  runtime  \\\n",
       "0      NaN               NaN              NaN  ...     NaN      NaN   \n",
       "1  62127.0                en  The Fantasticks  ...     0.0     86.0   \n",
       "\n",
       "                                    spoken_languages    status  \\\n",
       "0                                                NaN       NaN   \n",
       "1  [{'english_name': 'English', 'iso_639_1': 'en'...  Released   \n",
       "\n",
       "                                         tagline            title  video  \\\n",
       "0                                            NaN              NaN    NaN   \n",
       "1  Try to remember the first time magic happened  The Fantasticks    0.0   \n",
       "\n",
       "   vote_average vote_count certification  \n",
       "0           NaN        NaN           NaN  \n",
       "1           5.5       22.0           NaN  \n",
       "\n",
       "[2 rows x 26 columns]"
      ]
     },
     "execution_count": 3,
     "metadata": {},
     "output_type": "execute_result"
    }
   ],
   "source": [
    "#Loading each file in\n",
    "df1 = pd.read_csv('Data/final_tmdb_data_2000.csv.gz')\n",
    "df2 = pd.read_csv('Data/final_tmdb_data_2001.csv.gz')\n",
    "df3 = pd.read_csv('Data/final_tmdb_data_2002.csv.gz')\n",
    "df4 = pd.read_csv('Data/final_tmdb_data_2003.csv.gz')\n",
    "df5 = pd.read_csv('Data/final_tmdb_data_2004.csv.gz')\n",
    "df6 = pd.read_csv('Data/final_tmdb_data_2005.csv.gz')\n",
    "df7 = pd.read_csv('Data/final_tmdb_data_2006.csv.gz')\n",
    "df8 = pd.read_csv('Data/final_tmdb_data_2007.csv.gz')\n",
    "df9 = pd.read_csv('Data/final_tmdb_data_2008.csv.gz')\n",
    "df10 = pd.read_csv('Data/final_tmdb_data_2009.csv.gz')\n",
    "df11 = pd.read_csv('Data/final_tmdb_data_2010.csv.gz')\n",
    "df12 = pd.read_csv('Data/final_tmdb_data_2011.csv.gz')\n",
    "df13 = pd.read_csv('Data/final_tmdb_data_2012.csv.gz')\n",
    "df14 = pd.read_csv('Data/final_tmdb_data_2013.csv.gz')\n",
    "df15 = pd.read_csv('Data/final_tmdb_data_2014.csv.gz')\n",
    "df16 = pd.read_csv('Data/final_tmdb_data_2015.csv.gz')\n",
    "df17 = pd.read_csv('Data/final_tmdb_data_2016.csv.gz')\n",
    "df18 = pd.read_csv('Data/final_tmdb_data_2017.csv.gz')\n",
    "df19 = pd.read_csv('Data/final_tmdb_data_2018.csv.gz')\n",
    "df20 = pd.read_csv('Data/final_tmdb_data_2019.csv.gz')\n",
    "df21 = pd.read_csv('Data/final_tmdb_data_2020.csv.gz')\n",
    "df22 = pd.read_csv('Data/final_tmdb_data_2021.csv.gz')\n",
    "df23 = pd.read_csv('Data/final_tmdb_data_2022.csv.gz')\n",
    "\n",
    "#checking if they worked\n",
    "df1.head(2)"
   ]
  },
  {
   "cell_type": "markdown",
   "id": "ae04b385",
   "metadata": {},
   "source": [
    "### Concatenating the data into 1 dataframe for the remainder of the analysis"
   ]
  },
  {
   "cell_type": "code",
   "execution_count": 4,
   "id": "92625701",
   "metadata": {},
   "outputs": [],
   "source": [
    "#concatenating all dataframes into one\n",
    "\n",
    "df = pd.concat([df1,df2,df3,df4,df5,df6,df7,df8,df9,df10,\n",
    "              df11,df12,df13,df14,df15,df16,df17,df18,df19,\n",
    "              df20,df21,df22], ignore_index=True)"
   ]
  },
  {
   "cell_type": "code",
   "execution_count": 5,
   "id": "0818d931",
   "metadata": {},
   "outputs": [
    {
     "data": {
      "text/plain": [
       "21"
      ]
     },
     "execution_count": 5,
     "metadata": {},
     "output_type": "execute_result"
    }
   ],
   "source": [
    "#Checking for duplicates\n",
    "df.duplicated().sum()"
   ]
  },
  {
   "cell_type": "code",
   "execution_count": 6,
   "id": "ac0c3947",
   "metadata": {},
   "outputs": [
    {
     "data": {
      "text/plain": [
       "0"
      ]
     },
     "execution_count": 6,
     "metadata": {},
     "output_type": "execute_result"
    }
   ],
   "source": [
    "#Dropping duplicates\n",
    "df.drop_duplicates(inplace=True)\n",
    "df.duplicated().sum()"
   ]
  },
  {
   "cell_type": "code",
   "execution_count": 7,
   "id": "3f688356",
   "metadata": {},
   "outputs": [
    {
     "data": {
      "text/html": [
       "<div>\n",
       "<style scoped>\n",
       "    .dataframe tbody tr th:only-of-type {\n",
       "        vertical-align: middle;\n",
       "    }\n",
       "\n",
       "    .dataframe tbody tr th {\n",
       "        vertical-align: top;\n",
       "    }\n",
       "\n",
       "    .dataframe thead th {\n",
       "        text-align: right;\n",
       "    }\n",
       "</style>\n",
       "<table border=\"1\" class=\"dataframe\">\n",
       "  <thead>\n",
       "    <tr style=\"text-align: right;\">\n",
       "      <th></th>\n",
       "      <th>imdb_id</th>\n",
       "      <th>adult</th>\n",
       "      <th>backdrop_path</th>\n",
       "      <th>belongs_to_collection</th>\n",
       "      <th>budget</th>\n",
       "      <th>genres</th>\n",
       "      <th>homepage</th>\n",
       "      <th>id</th>\n",
       "      <th>original_language</th>\n",
       "      <th>original_title</th>\n",
       "      <th>...</th>\n",
       "      <th>revenue</th>\n",
       "      <th>runtime</th>\n",
       "      <th>spoken_languages</th>\n",
       "      <th>status</th>\n",
       "      <th>tagline</th>\n",
       "      <th>title</th>\n",
       "      <th>video</th>\n",
       "      <th>vote_average</th>\n",
       "      <th>vote_count</th>\n",
       "      <th>certification</th>\n",
       "    </tr>\n",
       "  </thead>\n",
       "  <tbody>\n",
       "    <tr>\n",
       "      <th>0</th>\n",
       "      <td>0</td>\n",
       "      <td>NaN</td>\n",
       "      <td>NaN</td>\n",
       "      <td>NaN</td>\n",
       "      <td>NaN</td>\n",
       "      <td>NaN</td>\n",
       "      <td>NaN</td>\n",
       "      <td>NaN</td>\n",
       "      <td>NaN</td>\n",
       "      <td>NaN</td>\n",
       "      <td>...</td>\n",
       "      <td>NaN</td>\n",
       "      <td>NaN</td>\n",
       "      <td>NaN</td>\n",
       "      <td>NaN</td>\n",
       "      <td>NaN</td>\n",
       "      <td>NaN</td>\n",
       "      <td>NaN</td>\n",
       "      <td>NaN</td>\n",
       "      <td>NaN</td>\n",
       "      <td>NaN</td>\n",
       "    </tr>\n",
       "    <tr>\n",
       "      <th>1</th>\n",
       "      <td>tt0113026</td>\n",
       "      <td>0.0</td>\n",
       "      <td>/vMFs7nw6P0bIV1jDsQpxAieAVnH.jpg</td>\n",
       "      <td>NaN</td>\n",
       "      <td>10000000.0</td>\n",
       "      <td>[{'id': 35, 'name': 'Comedy'}, {'id': 10402, '...</td>\n",
       "      <td>NaN</td>\n",
       "      <td>62127.0</td>\n",
       "      <td>en</td>\n",
       "      <td>The Fantasticks</td>\n",
       "      <td>...</td>\n",
       "      <td>0.0</td>\n",
       "      <td>86.0</td>\n",
       "      <td>[{'english_name': 'English', 'iso_639_1': 'en'...</td>\n",
       "      <td>Released</td>\n",
       "      <td>Try to remember the first time magic happened</td>\n",
       "      <td>The Fantasticks</td>\n",
       "      <td>0.0</td>\n",
       "      <td>5.5</td>\n",
       "      <td>22.0</td>\n",
       "      <td>NaN</td>\n",
       "    </tr>\n",
       "  </tbody>\n",
       "</table>\n",
       "<p>2 rows × 26 columns</p>\n",
       "</div>"
      ],
      "text/plain": [
       "     imdb_id  adult                     backdrop_path belongs_to_collection  \\\n",
       "0          0    NaN                               NaN                   NaN   \n",
       "1  tt0113026    0.0  /vMFs7nw6P0bIV1jDsQpxAieAVnH.jpg                   NaN   \n",
       "\n",
       "       budget                                             genres homepage  \\\n",
       "0         NaN                                                NaN      NaN   \n",
       "1  10000000.0  [{'id': 35, 'name': 'Comedy'}, {'id': 10402, '...      NaN   \n",
       "\n",
       "        id original_language   original_title  ... revenue  runtime  \\\n",
       "0      NaN               NaN              NaN  ...     NaN      NaN   \n",
       "1  62127.0                en  The Fantasticks  ...     0.0     86.0   \n",
       "\n",
       "                                    spoken_languages    status  \\\n",
       "0                                                NaN       NaN   \n",
       "1  [{'english_name': 'English', 'iso_639_1': 'en'...  Released   \n",
       "\n",
       "                                         tagline            title  video  \\\n",
       "0                                            NaN              NaN    NaN   \n",
       "1  Try to remember the first time magic happened  The Fantasticks    0.0   \n",
       "\n",
       "   vote_average vote_count certification  \n",
       "0           NaN        NaN           NaN  \n",
       "1           5.5       22.0           NaN  \n",
       "\n",
       "[2 rows x 26 columns]"
      ]
     },
     "execution_count": 7,
     "metadata": {},
     "output_type": "execute_result"
    }
   ],
   "source": [
    "df.head(2)"
   ]
  },
  {
   "cell_type": "code",
   "execution_count": 8,
   "id": "6af44a21",
   "metadata": {},
   "outputs": [
    {
     "name": "stdout",
     "output_type": "stream",
     "text": [
      "<class 'pandas.core.frame.DataFrame'>\n",
      "Int64Index: 60688 entries, 0 to 60708\n",
      "Data columns (total 26 columns):\n",
      " #   Column                 Non-Null Count  Dtype  \n",
      "---  ------                 --------------  -----  \n",
      " 0   imdb_id                60688 non-null  object \n",
      " 1   adult                  60687 non-null  float64\n",
      " 2   backdrop_path          37926 non-null  object \n",
      " 3   belongs_to_collection  3901 non-null   object \n",
      " 4   budget                 60687 non-null  float64\n",
      " 5   genres                 60687 non-null  object \n",
      " 6   homepage               14801 non-null  object \n",
      " 7   id                     60687 non-null  float64\n",
      " 8   original_language      60687 non-null  object \n",
      " 9   original_title         60687 non-null  object \n",
      " 10  overview               59349 non-null  object \n",
      " 11  popularity             60687 non-null  float64\n",
      " 12  poster_path            55240 non-null  object \n",
      " 13  production_companies   60687 non-null  object \n",
      " 14  production_countries   60687 non-null  object \n",
      " 15  release_date           59690 non-null  object \n",
      " 16  revenue                60687 non-null  float64\n",
      " 17  runtime                60687 non-null  float64\n",
      " 18  spoken_languages       60687 non-null  object \n",
      " 19  status                 60687 non-null  object \n",
      " 20  tagline                22573 non-null  object \n",
      " 21  title                  60687 non-null  object \n",
      " 22  video                  60687 non-null  float64\n",
      " 23  vote_average           60687 non-null  float64\n",
      " 24  vote_count             60687 non-null  float64\n",
      " 25  certification          14758 non-null  object \n",
      "dtypes: float64(9), object(17)\n",
      "memory usage: 12.5+ MB\n"
     ]
    }
   ],
   "source": [
    "df.info()"
   ]
  },
  {
   "cell_type": "markdown",
   "id": "42dede4d",
   "metadata": {},
   "source": [
    "# Some basic EDA"
   ]
  },
  {
   "cell_type": "markdown",
   "id": "f131f994",
   "metadata": {},
   "source": [
    "### How many movies had at least some valid financial information (values > 0 for budget OR revenue)?"
   ]
  },
  {
   "cell_type": "code",
   "execution_count": 9,
   "id": "89665d9b",
   "metadata": {},
   "outputs": [
    {
     "name": "stdout",
     "output_type": "stream",
     "text": [
      "False    53073\n",
      "True      7615\n",
      "Name: revenue, dtype: int64\n",
      "False    49486\n",
      "True     11202\n",
      "Name: budget, dtype: int64\n"
     ]
    }
   ],
   "source": [
    "revenue_filter = df['revenue'] > 0\n",
    "budget_filter = df['budget'] > 0\n",
    "print(revenue_filter.value_counts())\n",
    "print(budget_filter.value_counts())"
   ]
  },
  {
   "cell_type": "markdown",
   "id": "6a33cc67",
   "metadata": {},
   "source": [
    "It looks like there are 7,615 entries that have a revenue higher than 0 and 11,202 entries with a budget > 0."
   ]
  },
  {
   "cell_type": "code",
   "execution_count": 10,
   "id": "706d396d",
   "metadata": {},
   "outputs": [
    {
     "data": {
      "text/html": [
       "<div>\n",
       "<style scoped>\n",
       "    .dataframe tbody tr th:only-of-type {\n",
       "        vertical-align: middle;\n",
       "    }\n",
       "\n",
       "    .dataframe tbody tr th {\n",
       "        vertical-align: top;\n",
       "    }\n",
       "\n",
       "    .dataframe thead th {\n",
       "        text-align: right;\n",
       "    }\n",
       "</style>\n",
       "<table border=\"1\" class=\"dataframe\">\n",
       "  <thead>\n",
       "    <tr style=\"text-align: right;\">\n",
       "      <th></th>\n",
       "      <th>imdb_id</th>\n",
       "      <th>adult</th>\n",
       "      <th>backdrop_path</th>\n",
       "      <th>belongs_to_collection</th>\n",
       "      <th>budget</th>\n",
       "      <th>genres</th>\n",
       "      <th>homepage</th>\n",
       "      <th>id</th>\n",
       "      <th>original_language</th>\n",
       "      <th>original_title</th>\n",
       "      <th>...</th>\n",
       "      <th>revenue</th>\n",
       "      <th>runtime</th>\n",
       "      <th>spoken_languages</th>\n",
       "      <th>status</th>\n",
       "      <th>tagline</th>\n",
       "      <th>title</th>\n",
       "      <th>video</th>\n",
       "      <th>vote_average</th>\n",
       "      <th>vote_count</th>\n",
       "      <th>certification</th>\n",
       "    </tr>\n",
       "  </thead>\n",
       "  <tbody>\n",
       "    <tr>\n",
       "      <th>0</th>\n",
       "      <td>tt0118694</td>\n",
       "      <td>0.0</td>\n",
       "      <td>/n4GJFGzsc7NinI1VeGDXIcQjtU2.jpg</td>\n",
       "      <td>NaN</td>\n",
       "      <td>150000.0</td>\n",
       "      <td>[{'id': 18, 'name': 'Drama'}, {'id': 10749, 'n...</td>\n",
       "      <td>http://www.wkw-inthemoodforlove.com/</td>\n",
       "      <td>843.0</td>\n",
       "      <td>cn</td>\n",
       "      <td>花樣年華</td>\n",
       "      <td>...</td>\n",
       "      <td>12854953.0</td>\n",
       "      <td>99.0</td>\n",
       "      <td>[{'english_name': 'Cantonese', 'iso_639_1': 'c...</td>\n",
       "      <td>Released</td>\n",
       "      <td>Feel the heat, keep the feeling burning, let t...</td>\n",
       "      <td>In the Mood for Love</td>\n",
       "      <td>0.0</td>\n",
       "      <td>8.108</td>\n",
       "      <td>1956.0</td>\n",
       "      <td>PG</td>\n",
       "    </tr>\n",
       "    <tr>\n",
       "      <th>1</th>\n",
       "      <td>tt0120467</td>\n",
       "      <td>0.0</td>\n",
       "      <td>/knok3mNReKqPTplnnqz7E4dd7mD.jpg</td>\n",
       "      <td>NaN</td>\n",
       "      <td>120000.0</td>\n",
       "      <td>[{'id': 18, 'name': 'Drama'}, {'id': 27, 'name...</td>\n",
       "      <td>NaN</td>\n",
       "      <td>19085.0</td>\n",
       "      <td>en</td>\n",
       "      <td>Vulgar</td>\n",
       "      <td>...</td>\n",
       "      <td>14904.0</td>\n",
       "      <td>87.0</td>\n",
       "      <td>[{'english_name': 'English', 'iso_639_1': 'en'...</td>\n",
       "      <td>Released</td>\n",
       "      <td>Everyone loves a clown... some more than others.</td>\n",
       "      <td>Vulgar</td>\n",
       "      <td>0.0</td>\n",
       "      <td>5.400</td>\n",
       "      <td>42.0</td>\n",
       "      <td>R</td>\n",
       "    </tr>\n",
       "    <tr>\n",
       "      <th>2</th>\n",
       "      <td>tt0120630</td>\n",
       "      <td>0.0</td>\n",
       "      <td>/sPAwM8WxMdXNlqeP4F9DMe9LYoY.jpg</td>\n",
       "      <td>{'id': 718551, 'name': 'Chicken Run Collection...</td>\n",
       "      <td>45000000.0</td>\n",
       "      <td>[{'id': 16, 'name': 'Animation'}, {'id': 35, '...</td>\n",
       "      <td>NaN</td>\n",
       "      <td>7443.0</td>\n",
       "      <td>en</td>\n",
       "      <td>Chicken Run</td>\n",
       "      <td>...</td>\n",
       "      <td>224834564.0</td>\n",
       "      <td>84.0</td>\n",
       "      <td>[{'english_name': 'English', 'iso_639_1': 'en'...</td>\n",
       "      <td>Released</td>\n",
       "      <td>This ain't no chick flick. It's poultry in mot...</td>\n",
       "      <td>Chicken Run</td>\n",
       "      <td>0.0</td>\n",
       "      <td>6.726</td>\n",
       "      <td>4106.0</td>\n",
       "      <td>G</td>\n",
       "    </tr>\n",
       "    <tr>\n",
       "      <th>3</th>\n",
       "      <td>tt0120753</td>\n",
       "      <td>0.0</td>\n",
       "      <td>NaN</td>\n",
       "      <td>NaN</td>\n",
       "      <td>8000000.0</td>\n",
       "      <td>[{'id': 18, 'name': 'Drama'}, {'id': 53, 'name...</td>\n",
       "      <td>NaN</td>\n",
       "      <td>318.0</td>\n",
       "      <td>en</td>\n",
       "      <td>The Million Dollar Hotel</td>\n",
       "      <td>...</td>\n",
       "      <td>105983.0</td>\n",
       "      <td>122.0</td>\n",
       "      <td>[{'english_name': 'English', 'iso_639_1': 'en'...</td>\n",
       "      <td>Released</td>\n",
       "      <td>Everyone has something to hide.</td>\n",
       "      <td>The Million Dollar Hotel</td>\n",
       "      <td>0.0</td>\n",
       "      <td>5.915</td>\n",
       "      <td>254.0</td>\n",
       "      <td>R</td>\n",
       "    </tr>\n",
       "    <tr>\n",
       "      <th>4</th>\n",
       "      <td>tt0120755</td>\n",
       "      <td>0.0</td>\n",
       "      <td>/24DZfupDlhXeTchmcOkoGRhP5Vg.jpg</td>\n",
       "      <td>{'id': 87359, 'name': 'Mission: Impossible Col...</td>\n",
       "      <td>125000000.0</td>\n",
       "      <td>[{'id': 12, 'name': 'Adventure'}, {'id': 28, '...</td>\n",
       "      <td>NaN</td>\n",
       "      <td>955.0</td>\n",
       "      <td>en</td>\n",
       "      <td>Mission: Impossible II</td>\n",
       "      <td>...</td>\n",
       "      <td>546388105.0</td>\n",
       "      <td>123.0</td>\n",
       "      <td>[{'english_name': 'English', 'iso_639_1': 'en'...</td>\n",
       "      <td>Released</td>\n",
       "      <td>Expect the impossible again.</td>\n",
       "      <td>Mission: Impossible II</td>\n",
       "      <td>0.0</td>\n",
       "      <td>6.108</td>\n",
       "      <td>5448.0</td>\n",
       "      <td>PG-13</td>\n",
       "    </tr>\n",
       "  </tbody>\n",
       "</table>\n",
       "<p>5 rows × 26 columns</p>\n",
       "</div>"
      ],
      "text/plain": [
       "     imdb_id  adult                     backdrop_path  \\\n",
       "0  tt0118694    0.0  /n4GJFGzsc7NinI1VeGDXIcQjtU2.jpg   \n",
       "1  tt0120467    0.0  /knok3mNReKqPTplnnqz7E4dd7mD.jpg   \n",
       "2  tt0120630    0.0  /sPAwM8WxMdXNlqeP4F9DMe9LYoY.jpg   \n",
       "3  tt0120753    0.0                               NaN   \n",
       "4  tt0120755    0.0  /24DZfupDlhXeTchmcOkoGRhP5Vg.jpg   \n",
       "\n",
       "                               belongs_to_collection       budget  \\\n",
       "0                                                NaN     150000.0   \n",
       "1                                                NaN     120000.0   \n",
       "2  {'id': 718551, 'name': 'Chicken Run Collection...   45000000.0   \n",
       "3                                                NaN    8000000.0   \n",
       "4  {'id': 87359, 'name': 'Mission: Impossible Col...  125000000.0   \n",
       "\n",
       "                                              genres  \\\n",
       "0  [{'id': 18, 'name': 'Drama'}, {'id': 10749, 'n...   \n",
       "1  [{'id': 18, 'name': 'Drama'}, {'id': 27, 'name...   \n",
       "2  [{'id': 16, 'name': 'Animation'}, {'id': 35, '...   \n",
       "3  [{'id': 18, 'name': 'Drama'}, {'id': 53, 'name...   \n",
       "4  [{'id': 12, 'name': 'Adventure'}, {'id': 28, '...   \n",
       "\n",
       "                               homepage       id original_language  \\\n",
       "0  http://www.wkw-inthemoodforlove.com/    843.0                cn   \n",
       "1                                   NaN  19085.0                en   \n",
       "2                                   NaN   7443.0                en   \n",
       "3                                   NaN    318.0                en   \n",
       "4                                   NaN    955.0                en   \n",
       "\n",
       "             original_title  ...      revenue  runtime  \\\n",
       "0                      花樣年華  ...   12854953.0     99.0   \n",
       "1                    Vulgar  ...      14904.0     87.0   \n",
       "2               Chicken Run  ...  224834564.0     84.0   \n",
       "3  The Million Dollar Hotel  ...     105983.0    122.0   \n",
       "4    Mission: Impossible II  ...  546388105.0    123.0   \n",
       "\n",
       "                                    spoken_languages    status  \\\n",
       "0  [{'english_name': 'Cantonese', 'iso_639_1': 'c...  Released   \n",
       "1  [{'english_name': 'English', 'iso_639_1': 'en'...  Released   \n",
       "2  [{'english_name': 'English', 'iso_639_1': 'en'...  Released   \n",
       "3  [{'english_name': 'English', 'iso_639_1': 'en'...  Released   \n",
       "4  [{'english_name': 'English', 'iso_639_1': 'en'...  Released   \n",
       "\n",
       "                                             tagline  \\\n",
       "0  Feel the heat, keep the feeling burning, let t...   \n",
       "1   Everyone loves a clown... some more than others.   \n",
       "2  This ain't no chick flick. It's poultry in mot...   \n",
       "3                    Everyone has something to hide.   \n",
       "4                       Expect the impossible again.   \n",
       "\n",
       "                      title  video  vote_average vote_count certification  \n",
       "0      In the Mood for Love    0.0         8.108     1956.0            PG  \n",
       "1                    Vulgar    0.0         5.400       42.0             R  \n",
       "2               Chicken Run    0.0         6.726     4106.0             G  \n",
       "3  The Million Dollar Hotel    0.0         5.915      254.0             R  \n",
       "4    Mission: Impossible II    0.0         6.108     5448.0         PG-13  \n",
       "\n",
       "[5 rows x 26 columns]"
      ]
     },
     "execution_count": 10,
     "metadata": {},
     "output_type": "execute_result"
    }
   ],
   "source": [
    "#Excluding entries without a revenue of >0 from remaining visualizations\n",
    "df = df.loc[revenue_filter & budget_filter, :].reset_index()\n",
    "df.drop('index',axis=1,inplace=True)\n",
    "df.head()"
   ]
  },
  {
   "cell_type": "markdown",
   "id": "e29c7ddc",
   "metadata": {},
   "source": [
    "### How many movies are there in each of the certification categories (G/PG/PG-13/R)?"
   ]
  },
  {
   "cell_type": "code",
   "execution_count": 11,
   "id": "737cf8c1",
   "metadata": {},
   "outputs": [
    {
     "data": {
      "text/plain": [
       "R        1729\n",
       "PG-13    1454\n",
       "PG        528\n",
       "NR        153\n",
       "G          88\n",
       "NC-17      15\n",
       "R           1\n",
       "Name: certification, dtype: int64"
      ]
     },
     "execution_count": 11,
     "metadata": {},
     "output_type": "execute_result"
    }
   ],
   "source": [
    "df['certification'].value_counts()"
   ]
  },
  {
   "cell_type": "code",
   "execution_count": 12,
   "id": "d63a7e2c",
   "metadata": {},
   "outputs": [],
   "source": [
    "#Fixing the second r value because it has a space in it\n",
    "df.replace({'R ':'R'}, inplace=True)"
   ]
  },
  {
   "cell_type": "code",
   "execution_count": 13,
   "id": "8539c0ce",
   "metadata": {},
   "outputs": [
    {
     "data": {
      "text/plain": [
       "R        1730\n",
       "PG-13    1454\n",
       "PG        528\n",
       "NR        153\n",
       "G          88\n",
       "NC-17      15\n",
       "Name: certification, dtype: int64"
      ]
     },
     "execution_count": 13,
     "metadata": {},
     "output_type": "execute_result"
    },
    {
     "data": {
      "image/png": "[encoded data removed]",
      "text/plain": [
       "<Figure size 432x288 with 1 Axes>"
      ]
     },
     "metadata": {
      "needs_background": "light"
     },
     "output_type": "display_data"
    }
   ],
   "source": [
    "sns.histplot(df['certification'])\n",
    "df['certification'].value_counts()"
   ]
  },
  {
   "cell_type": "markdown",
   "id": "d64d2cd2",
   "metadata": {},
   "source": [
    "I realized that the loops in my previous notebook did not add the certification for some reason, and I need some help troubleshooting that.\n",
    "\n",
    "This also prevents being able to answer questions 3 and 4."
   ]
  },
  {
   "cell_type": "markdown",
   "id": "14ee61ba",
   "metadata": {},
   "source": [
    "### What is the average revenue per certification category?"
   ]
  },
  {
   "cell_type": "code",
   "execution_count": 18,
   "id": "8abdd3dd",
   "metadata": {},
   "outputs": [
    {
     "data": {
      "text/html": [
       "<div>\n",
       "<style scoped>\n",
       "    .dataframe tbody tr th:only-of-type {\n",
       "        vertical-align: middle;\n",
       "    }\n",
       "\n",
       "    .dataframe tbody tr th {\n",
       "        vertical-align: top;\n",
       "    }\n",
       "\n",
       "    .dataframe thead th {\n",
       "        text-align: right;\n",
       "    }\n",
       "</style>\n",
       "<table border=\"1\" class=\"dataframe\">\n",
       "  <thead>\n",
       "    <tr style=\"text-align: right;\">\n",
       "      <th></th>\n",
       "      <th>imdb_id</th>\n",
       "      <th>adult</th>\n",
       "      <th>backdrop_path</th>\n",
       "      <th>belongs_to_collection</th>\n",
       "      <th>budget</th>\n",
       "      <th>genres</th>\n",
       "      <th>homepage</th>\n",
       "      <th>id</th>\n",
       "      <th>original_language</th>\n",
       "      <th>original_title</th>\n",
       "      <th>...</th>\n",
       "      <th>revenue</th>\n",
       "      <th>runtime</th>\n",
       "      <th>spoken_languages</th>\n",
       "      <th>status</th>\n",
       "      <th>tagline</th>\n",
       "      <th>title</th>\n",
       "      <th>video</th>\n",
       "      <th>vote_average</th>\n",
       "      <th>vote_count</th>\n",
       "      <th>certification</th>\n",
       "    </tr>\n",
       "  </thead>\n",
       "  <tbody>\n",
       "    <tr>\n",
       "      <th>1</th>\n",
       "      <td>tt0120467</td>\n",
       "      <td>0.0</td>\n",
       "      <td>/knok3mNReKqPTplnnqz7E4dd7mD.jpg</td>\n",
       "      <td>NaN</td>\n",
       "      <td>120000.0</td>\n",
       "      <td>[{'id': 18, 'name': 'Drama'}, {'id': 27, 'name...</td>\n",
       "      <td>NaN</td>\n",
       "      <td>19085.0</td>\n",
       "      <td>en</td>\n",
       "      <td>Vulgar</td>\n",
       "      <td>...</td>\n",
       "      <td>14904.0</td>\n",
       "      <td>87.0</td>\n",
       "      <td>[{'english_name': 'English', 'iso_639_1': 'en'...</td>\n",
       "      <td>Released</td>\n",
       "      <td>Everyone loves a clown... some more than others.</td>\n",
       "      <td>Vulgar</td>\n",
       "      <td>0.0</td>\n",
       "      <td>5.400</td>\n",
       "      <td>42.0</td>\n",
       "      <td>R</td>\n",
       "    </tr>\n",
       "    <tr>\n",
       "      <th>3</th>\n",
       "      <td>tt0120753</td>\n",
       "      <td>0.0</td>\n",
       "      <td>NaN</td>\n",
       "      <td>NaN</td>\n",
       "      <td>8000000.0</td>\n",
       "      <td>[{'id': 18, 'name': 'Drama'}, {'id': 53, 'name...</td>\n",
       "      <td>NaN</td>\n",
       "      <td>318.0</td>\n",
       "      <td>en</td>\n",
       "      <td>The Million Dollar Hotel</td>\n",
       "      <td>...</td>\n",
       "      <td>105983.0</td>\n",
       "      <td>122.0</td>\n",
       "      <td>[{'english_name': 'English', 'iso_639_1': 'en'...</td>\n",
       "      <td>Released</td>\n",
       "      <td>Everyone has something to hide.</td>\n",
       "      <td>The Million Dollar Hotel</td>\n",
       "      <td>0.0</td>\n",
       "      <td>5.915</td>\n",
       "      <td>254.0</td>\n",
       "      <td>R</td>\n",
       "    </tr>\n",
       "  </tbody>\n",
       "</table>\n",
       "<p>2 rows × 26 columns</p>\n",
       "</div>"
      ],
      "text/plain": [
       "     imdb_id  adult                     backdrop_path belongs_to_collection  \\\n",
       "1  tt0120467    0.0  /knok3mNReKqPTplnnqz7E4dd7mD.jpg                   NaN   \n",
       "3  tt0120753    0.0                               NaN                   NaN   \n",
       "\n",
       "      budget                                             genres homepage  \\\n",
       "1   120000.0  [{'id': 18, 'name': 'Drama'}, {'id': 27, 'name...      NaN   \n",
       "3  8000000.0  [{'id': 18, 'name': 'Drama'}, {'id': 53, 'name...      NaN   \n",
       "\n",
       "        id original_language            original_title  ...   revenue  \\\n",
       "1  19085.0                en                    Vulgar  ...   14904.0   \n",
       "3    318.0                en  The Million Dollar Hotel  ...  105983.0   \n",
       "\n",
       "   runtime                                   spoken_languages    status  \\\n",
       "1     87.0  [{'english_name': 'English', 'iso_639_1': 'en'...  Released   \n",
       "3    122.0  [{'english_name': 'English', 'iso_639_1': 'en'...  Released   \n",
       "\n",
       "                                            tagline                     title  \\\n",
       "1  Everyone loves a clown... some more than others.                    Vulgar   \n",
       "3                   Everyone has something to hide.  The Million Dollar Hotel   \n",
       "\n",
       "   video  vote_average vote_count certification  \n",
       "1    0.0         5.400       42.0             R  \n",
       "3    0.0         5.915      254.0             R  \n",
       "\n",
       "[2 rows x 26 columns]"
      ]
     },
     "execution_count": 18,
     "metadata": {},
     "output_type": "execute_result"
    }
   ],
   "source": [
    "#Filtering for each certification category\n",
    "r = df.loc[df['certification']=='R', :]\n",
    "pg13 = df.loc[df['certification']=='PG-13', :]\n",
    "pg = df.loc[df['certification']=='PG', :]\n",
    "nr = df.loc[df['certification']=='NR', :]\n",
    "g = df.loc[df['certification']=='G', :]\n",
    "nc17 = df.loc[df['certification']=='NC-17', :]\n",
    "\n",
    "#Sanity checking\n",
    "r.head(2)"
   ]
  },
  {
   "cell_type": "code",
   "execution_count": 42,
   "id": "1cee3182",
   "metadata": {},
   "outputs": [
    {
     "name": "stdout",
     "output_type": "stream",
     "text": [
      "Avg revenue for R movies: $56770342.09\n",
      "Avg revenue for pg13 movies: $158261235.11\n",
      "Avg revenue for pg movies: $181843833.51\n",
      "Avg revenue for nr movies: $33083422.31\n",
      "Avg revenue for g movies: $167126798.98\n",
      "Avg revenue for nc17 movies: $10485581.13\n"
     ]
    }
   ],
   "source": [
    "# Average revenue per certification category\n",
    "print(f\"Avg revenue for R movies: ${r['revenue'].mean():.2f}\")\n",
    "print(f\"Avg revenue for pg13 movies: ${pg13['revenue'].mean():.2f}\")\n",
    "print(f\"Avg revenue for pg movies: ${pg['revenue'].mean():.2f}\")\n",
    "print(f\"Avg revenue for nr movies: ${nr['revenue'].mean():.2f}\")\n",
    "print(f\"Avg revenue for g movies: ${g['revenue'].mean():.2f}\")\n",
    "print(f\"Avg revenue for nc17 movies: ${nc17['revenue'].mean():.2f}\")\n"
   ]
  },
  {
   "cell_type": "markdown",
   "id": "8f411dff",
   "metadata": {},
   "source": [
    "### What is the average budget per certification category?"
   ]
  },
  {
   "cell_type": "code",
   "execution_count": 44,
   "id": "385082ee",
   "metadata": {},
   "outputs": [
    {
     "name": "stdout",
     "output_type": "stream",
     "text": [
      "Avg budget for R movies: $23834439.42\n",
      "Avg budget for pg13 movies: $53239492.42\n",
      "Avg budget for pg movies: $59165415.42\n",
      "Avg budget for nr movies: $11638016.41\n",
      "Avg budget for g movies: $52403262.84\n",
      "Avg budget for nc17 movies: $5027536.73\n"
     ]
    }
   ],
   "source": [
    "# Average budget per certification category\n",
    "print(f\"Avg budget for R movies: ${r['budget'].mean():.2f}\")\n",
    "print(f\"Avg budget for pg13 movies: ${pg13['budget'].mean():.2f}\")\n",
    "print(f\"Avg budget for pg movies: ${pg['budget'].mean():.2f}\")\n",
    "print(f\"Avg budget for nr movies: ${nr['budget'].mean():.2f}\")\n",
    "print(f\"Avg budget for g movies: ${g['budget'].mean():.2f}\")\n",
    "print(f\"Avg budget for nc17 movies: ${nc17['budget'].mean():.2f}\")"
   ]
  },
  {
   "cell_type": "markdown",
   "id": "070c22d4",
   "metadata": {},
   "source": [
    "# Deliverables"
   ]
  },
  {
   "cell_type": "markdown",
   "id": "943de081",
   "metadata": {},
   "source": [
    "## Saving a final merged .csv.gz of all tmdb api data"
   ]
  },
  {
   "cell_type": "code",
   "execution_count": 45,
   "id": "df65a8a0",
   "metadata": {},
   "outputs": [],
   "source": [
    "df.to_csv(\"Data/tmdb_results_combined.csv.gz\",compression='gzip',index=False)"
   ]
  },
  {
   "cell_type": "code",
   "execution_count": null,
   "id": "564f4cdf",
   "metadata": {},
   "outputs": [],
   "source": []
  }
 ],
 "metadata": {
  "kernelspec": {
   "display_name": "Python (dojo-env)",
   "language": "python",
   "name": "dojo-env"
  },
  "language_info": {
   "codemirror_mode": {
    "name": "ipython",
    "version": 3
   },
   "file_extension": ".py",
   "mimetype": "text/x-python",
   "name": "python",
   "nbconvert_exporter": "python",
   "pygments_lexer": "ipython3",
   "version": "3.9.12"
  },
  "toc": {
   "base_numbering": 1,
   "nav_menu": {},
   "number_sections": false,
   "sideBar": true,
   "skip_h1_title": false,
   "title_cell": "Table of Contents",
   "title_sidebar": "Contents",
   "toc_cell": false,
   "toc_position": {},
   "toc_section_display": true,
   "toc_window_display": false
  }
 },
 "nbformat": 4,
 "nbformat_minor": 5
}
