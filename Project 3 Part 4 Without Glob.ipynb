{
 "cells": [
  {
   "cell_type": "code",
   "execution_count": 14,
   "id": "8d99cb4b",
   "metadata": {},
   "outputs": [],
   "source": [
    "#Imports\n",
    "import json\n",
    "import pandas as pd\n",
    "import numpy as np\n",
    "import seaborn as sns\n",
    "from scipy import stats\n",
    "from statsmodels.stats.multicomp import pairwise_tukeyhsd"
   ]
  },
  {
   "cell_type": "markdown",
   "id": "8644b12d",
   "metadata": {},
   "source": [
    "# Loading Data"
   ]
  },
  {
   "cell_type": "code",
   "execution_count": 2,
   "id": "f1f968e1",
   "metadata": {},
   "outputs": [
    {
     "data": {
      "text/html": [
       "<div>\n",
       "<style scoped>\n",
       "    .dataframe tbody tr th:only-of-type {\n",
       "        vertical-align: middle;\n",
       "    }\n",
       "\n",
       "    .dataframe tbody tr th {\n",
       "        vertical-align: top;\n",
       "    }\n",
       "\n",
       "    .dataframe thead th {\n",
       "        text-align: right;\n",
       "    }\n",
       "</style>\n",
       "<table border=\"1\" class=\"dataframe\">\n",
       "  <thead>\n",
       "    <tr style=\"text-align: right;\">\n",
       "      <th></th>\n",
       "      <th>imdb_id</th>\n",
       "      <th>adult</th>\n",
       "      <th>backdrop_path</th>\n",
       "      <th>belongs_to_collection</th>\n",
       "      <th>budget</th>\n",
       "      <th>genres</th>\n",
       "      <th>homepage</th>\n",
       "      <th>id</th>\n",
       "      <th>original_language</th>\n",
       "      <th>original_title</th>\n",
       "      <th>...</th>\n",
       "      <th>revenue</th>\n",
       "      <th>runtime</th>\n",
       "      <th>spoken_languages</th>\n",
       "      <th>status</th>\n",
       "      <th>tagline</th>\n",
       "      <th>title</th>\n",
       "      <th>video</th>\n",
       "      <th>vote_average</th>\n",
       "      <th>vote_count</th>\n",
       "      <th>certification</th>\n",
       "    </tr>\n",
       "  </thead>\n",
       "  <tbody>\n",
       "    <tr>\n",
       "      <th>0</th>\n",
       "      <td>tt0118694</td>\n",
       "      <td>0.0</td>\n",
       "      <td>/n4GJFGzsc7NinI1VeGDXIcQjtU2.jpg</td>\n",
       "      <td>NaN</td>\n",
       "      <td>150000.0</td>\n",
       "      <td>[{'id': 18, 'name': 'Drama'}, {'id': 10749, 'n...</td>\n",
       "      <td>http://www.wkw-inthemoodforlove.com/</td>\n",
       "      <td>843.0</td>\n",
       "      <td>cn</td>\n",
       "      <td>花樣年華</td>\n",
       "      <td>...</td>\n",
       "      <td>12854953.0</td>\n",
       "      <td>99.0</td>\n",
       "      <td>[{'english_name': 'Cantonese', 'iso_639_1': 'c...</td>\n",
       "      <td>Released</td>\n",
       "      <td>Feel the heat, keep the feeling burning, let t...</td>\n",
       "      <td>In the Mood for Love</td>\n",
       "      <td>0.0</td>\n",
       "      <td>8.108</td>\n",
       "      <td>1956.0</td>\n",
       "      <td>PG</td>\n",
       "    </tr>\n",
       "    <tr>\n",
       "      <th>1</th>\n",
       "      <td>tt0120467</td>\n",
       "      <td>0.0</td>\n",
       "      <td>/knok3mNReKqPTplnnqz7E4dd7mD.jpg</td>\n",
       "      <td>NaN</td>\n",
       "      <td>120000.0</td>\n",
       "      <td>[{'id': 18, 'name': 'Drama'}, {'id': 27, 'name...</td>\n",
       "      <td>NaN</td>\n",
       "      <td>19085.0</td>\n",
       "      <td>en</td>\n",
       "      <td>Vulgar</td>\n",
       "      <td>...</td>\n",
       "      <td>14904.0</td>\n",
       "      <td>87.0</td>\n",
       "      <td>[{'english_name': 'English', 'iso_639_1': 'en'...</td>\n",
       "      <td>Released</td>\n",
       "      <td>Everyone loves a clown... some more than others.</td>\n",
       "      <td>Vulgar</td>\n",
       "      <td>0.0</td>\n",
       "      <td>5.400</td>\n",
       "      <td>42.0</td>\n",
       "      <td>R</td>\n",
       "    </tr>\n",
       "    <tr>\n",
       "      <th>2</th>\n",
       "      <td>tt0120630</td>\n",
       "      <td>0.0</td>\n",
       "      <td>/sPAwM8WxMdXNlqeP4F9DMe9LYoY.jpg</td>\n",
       "      <td>{'id': 718551, 'name': 'Chicken Run Collection...</td>\n",
       "      <td>45000000.0</td>\n",
       "      <td>[{'id': 16, 'name': 'Animation'}, {'id': 35, '...</td>\n",
       "      <td>NaN</td>\n",
       "      <td>7443.0</td>\n",
       "      <td>en</td>\n",
       "      <td>Chicken Run</td>\n",
       "      <td>...</td>\n",
       "      <td>224834564.0</td>\n",
       "      <td>84.0</td>\n",
       "      <td>[{'english_name': 'English', 'iso_639_1': 'en'...</td>\n",
       "      <td>Released</td>\n",
       "      <td>This ain't no chick flick. It's poultry in mot...</td>\n",
       "      <td>Chicken Run</td>\n",
       "      <td>0.0</td>\n",
       "      <td>6.726</td>\n",
       "      <td>4106.0</td>\n",
       "      <td>G</td>\n",
       "    </tr>\n",
       "    <tr>\n",
       "      <th>3</th>\n",
       "      <td>tt0120753</td>\n",
       "      <td>0.0</td>\n",
       "      <td>NaN</td>\n",
       "      <td>NaN</td>\n",
       "      <td>8000000.0</td>\n",
       "      <td>[{'id': 18, 'name': 'Drama'}, {'id': 53, 'name...</td>\n",
       "      <td>NaN</td>\n",
       "      <td>318.0</td>\n",
       "      <td>en</td>\n",
       "      <td>The Million Dollar Hotel</td>\n",
       "      <td>...</td>\n",
       "      <td>105983.0</td>\n",
       "      <td>122.0</td>\n",
       "      <td>[{'english_name': 'English', 'iso_639_1': 'en'...</td>\n",
       "      <td>Released</td>\n",
       "      <td>Everyone has something to hide.</td>\n",
       "      <td>The Million Dollar Hotel</td>\n",
       "      <td>0.0</td>\n",
       "      <td>5.915</td>\n",
       "      <td>254.0</td>\n",
       "      <td>R</td>\n",
       "    </tr>\n",
       "    <tr>\n",
       "      <th>4</th>\n",
       "      <td>tt0120755</td>\n",
       "      <td>0.0</td>\n",
       "      <td>/24DZfupDlhXeTchmcOkoGRhP5Vg.jpg</td>\n",
       "      <td>{'id': 87359, 'name': 'Mission: Impossible Col...</td>\n",
       "      <td>125000000.0</td>\n",
       "      <td>[{'id': 12, 'name': 'Adventure'}, {'id': 28, '...</td>\n",
       "      <td>NaN</td>\n",
       "      <td>955.0</td>\n",
       "      <td>en</td>\n",
       "      <td>Mission: Impossible II</td>\n",
       "      <td>...</td>\n",
       "      <td>546388105.0</td>\n",
       "      <td>123.0</td>\n",
       "      <td>[{'english_name': 'English', 'iso_639_1': 'en'...</td>\n",
       "      <td>Released</td>\n",
       "      <td>Expect the impossible again.</td>\n",
       "      <td>Mission: Impossible II</td>\n",
       "      <td>0.0</td>\n",
       "      <td>6.108</td>\n",
       "      <td>5448.0</td>\n",
       "      <td>PG-13</td>\n",
       "    </tr>\n",
       "  </tbody>\n",
       "</table>\n",
       "<p>5 rows × 26 columns</p>\n",
       "</div>"
      ],
      "text/plain": [
       "     imdb_id  adult                     backdrop_path  \\\n",
       "0  tt0118694    0.0  /n4GJFGzsc7NinI1VeGDXIcQjtU2.jpg   \n",
       "1  tt0120467    0.0  /knok3mNReKqPTplnnqz7E4dd7mD.jpg   \n",
       "2  tt0120630    0.0  /sPAwM8WxMdXNlqeP4F9DMe9LYoY.jpg   \n",
       "3  tt0120753    0.0                               NaN   \n",
       "4  tt0120755    0.0  /24DZfupDlhXeTchmcOkoGRhP5Vg.jpg   \n",
       "\n",
       "                               belongs_to_collection       budget  \\\n",
       "0                                                NaN     150000.0   \n",
       "1                                                NaN     120000.0   \n",
       "2  {'id': 718551, 'name': 'Chicken Run Collection...   45000000.0   \n",
       "3                                                NaN    8000000.0   \n",
       "4  {'id': 87359, 'name': 'Mission: Impossible Col...  125000000.0   \n",
       "\n",
       "                                              genres  \\\n",
       "0  [{'id': 18, 'name': 'Drama'}, {'id': 10749, 'n...   \n",
       "1  [{'id': 18, 'name': 'Drama'}, {'id': 27, 'name...   \n",
       "2  [{'id': 16, 'name': 'Animation'}, {'id': 35, '...   \n",
       "3  [{'id': 18, 'name': 'Drama'}, {'id': 53, 'name...   \n",
       "4  [{'id': 12, 'name': 'Adventure'}, {'id': 28, '...   \n",
       "\n",
       "                               homepage       id original_language  \\\n",
       "0  http://www.wkw-inthemoodforlove.com/    843.0                cn   \n",
       "1                                   NaN  19085.0                en   \n",
       "2                                   NaN   7443.0                en   \n",
       "3                                   NaN    318.0                en   \n",
       "4                                   NaN    955.0                en   \n",
       "\n",
       "             original_title  ...      revenue  runtime  \\\n",
       "0                      花樣年華  ...   12854953.0     99.0   \n",
       "1                    Vulgar  ...      14904.0     87.0   \n",
       "2               Chicken Run  ...  224834564.0     84.0   \n",
       "3  The Million Dollar Hotel  ...     105983.0    122.0   \n",
       "4    Mission: Impossible II  ...  546388105.0    123.0   \n",
       "\n",
       "                                    spoken_languages    status  \\\n",
       "0  [{'english_name': 'Cantonese', 'iso_639_1': 'c...  Released   \n",
       "1  [{'english_name': 'English', 'iso_639_1': 'en'...  Released   \n",
       "2  [{'english_name': 'English', 'iso_639_1': 'en'...  Released   \n",
       "3  [{'english_name': 'English', 'iso_639_1': 'en'...  Released   \n",
       "4  [{'english_name': 'English', 'iso_639_1': 'en'...  Released   \n",
       "\n",
       "                                             tagline  \\\n",
       "0  Feel the heat, keep the feeling burning, let t...   \n",
       "1   Everyone loves a clown... some more than others.   \n",
       "2  This ain't no chick flick. It's poultry in mot...   \n",
       "3                    Everyone has something to hide.   \n",
       "4                       Expect the impossible again.   \n",
       "\n",
       "                      title  video  vote_average vote_count certification  \n",
       "0      In the Mood for Love    0.0         8.108     1956.0            PG  \n",
       "1                    Vulgar    0.0         5.400       42.0             R  \n",
       "2               Chicken Run    0.0         6.726     4106.0             G  \n",
       "3  The Million Dollar Hotel    0.0         5.915      254.0             R  \n",
       "4    Mission: Impossible II    0.0         6.108     5448.0         PG-13  \n",
       "\n",
       "[5 rows x 26 columns]"
      ]
     },
     "execution_count": 2,
     "metadata": {},
     "output_type": "execute_result"
    }
   ],
   "source": [
    "# File used during Part 2.5 (Basic EDA) since it already filtered out\n",
    "# movies that have a revenue and budget > 0\n",
    "df = pd.read_csv('Data/tmdb_results_combined.csv.gz')\n",
    "df.head()"
   ]
  },
  {
   "cell_type": "code",
   "execution_count": 3,
   "id": "f150d0e0",
   "metadata": {},
   "outputs": [
    {
     "name": "stdout",
     "output_type": "stream",
     "text": [
      "<class 'pandas.core.frame.DataFrame'>\n",
      "RangeIndex: 5168 entries, 0 to 5167\n",
      "Data columns (total 26 columns):\n",
      " #   Column                 Non-Null Count  Dtype  \n",
      "---  ------                 --------------  -----  \n",
      " 0   imdb_id                5168 non-null   object \n",
      " 1   adult                  5168 non-null   float64\n",
      " 2   backdrop_path          4953 non-null   object \n",
      " 3   belongs_to_collection  1141 non-null   object \n",
      " 4   budget                 5168 non-null   float64\n",
      " 5   genres                 5168 non-null   object \n",
      " 6   homepage               2452 non-null   object \n",
      " 7   id                     5168 non-null   float64\n",
      " 8   original_language      5168 non-null   object \n",
      " 9   original_title         5168 non-null   object \n",
      " 10  overview               5160 non-null   object \n",
      " 11  popularity             5168 non-null   float64\n",
      " 12  poster_path            5134 non-null   object \n",
      " 13  production_companies   5168 non-null   object \n",
      " 14  production_countries   5168 non-null   object \n",
      " 15  release_date           5160 non-null   object \n",
      " 16  revenue                5168 non-null   float64\n",
      " 17  runtime                5168 non-null   float64\n",
      " 18  spoken_languages       5168 non-null   object \n",
      " 19  status                 5168 non-null   object \n",
      " 20  tagline                4125 non-null   object \n",
      " 21  title                  5168 non-null   object \n",
      " 22  video                  5168 non-null   float64\n",
      " 23  vote_average           5168 non-null   float64\n",
      " 24  vote_count             5168 non-null   float64\n",
      " 25  certification          3968 non-null   object \n",
      "dtypes: float64(9), object(17)\n",
      "memory usage: 1.0+ MB\n"
     ]
    }
   ],
   "source": [
    "df.info()"
   ]
  },
  {
   "cell_type": "code",
   "execution_count": 4,
   "id": "2a68b909",
   "metadata": {},
   "outputs": [],
   "source": [
    "# dropping all rows with nans to avoid skewing the data during hypothesis testing\n",
    "df = df.dropna(subset = ['certification'])"
   ]
  },
  {
   "cell_type": "markdown",
   "id": "8492d2c5",
   "metadata": {},
   "source": [
    "# Answering Stakeholder Questions with Hypothesis Testing"
   ]
  },
  {
   "cell_type": "markdown",
   "id": "dab9a216",
   "metadata": {},
   "source": [
    "## Q1: Does the MPAA rating of a movie (G/PG/PG-13/R) affect how much revenue the movie generates?"
   ]
  },
  {
   "cell_type": "markdown",
   "id": "254134a3",
   "metadata": {},
   "source": [
    "### Hypotheses\n",
    "\n",
    "- Null Hypothesis: Different MPAA ratings all generate the same amount of revenue on average.\n",
    "\n",
    "- Alternative Hypothesis: Different MPAA ratings generate revenue at significantly different amounts."
   ]
  },
  {
   "cell_type": "markdown",
   "id": "4419e0eb",
   "metadata": {},
   "source": [
    "### Separating Our Groups"
   ]
  },
  {
   "cell_type": "code",
   "execution_count": 5,
   "id": "79a68ae5",
   "metadata": {},
   "outputs": [],
   "source": [
    "#dropping NR and NC-17\n",
    "values = ['NR', 'NC-17']\n",
    "df = df[df.certification.isin(values) == False]"
   ]
  },
  {
   "cell_type": "code",
   "execution_count": 6,
   "id": "45de9701",
   "metadata": {},
   "outputs": [
    {
     "data": {
      "text/plain": [
       "dict_keys(['PG', 'R', 'G', 'PG-13'])"
      ]
     },
     "execution_count": 6,
     "metadata": {},
     "output_type": "execute_result"
    }
   ],
   "source": [
    "#Creating a group dictionary\n",
    "groups = {}\n",
    "# Looping through all unique categories\n",
    "for i in df['certification'].unique():\n",
    "    # Get series for group and rename\n",
    "    data = df.loc[df['certification']==i,'revenue'].copy()\n",
    "    \n",
    "    # save into the dictionary\n",
    "    groups[i] = data\n",
    "groups.keys()"
   ]
  },
  {
   "cell_type": "markdown",
   "id": "334345d4",
   "metadata": {},
   "source": [
    "### Checking Assumptions"
   ]
  },
  {
   "cell_type": "markdown",
   "id": "2456a8fd",
   "metadata": {},
   "source": [
    "#### Outliers\n",
    "\n",
    "- Unsure how to loop through to remove outliers"
   ]
  },
  {
   "cell_type": "markdown",
   "id": "3aa6b08b",
   "metadata": {},
   "source": [
    "#### Normality"
   ]
  },
  {
   "cell_type": "code",
   "execution_count": 7,
   "id": "451296b1",
   "metadata": {},
   "outputs": [
    {
     "data": {
      "text/html": [
       "<div>\n",
       "<style scoped>\n",
       "    .dataframe tbody tr th:only-of-type {\n",
       "        vertical-align: middle;\n",
       "    }\n",
       "\n",
       "    .dataframe tbody tr th {\n",
       "        vertical-align: top;\n",
       "    }\n",
       "\n",
       "    .dataframe thead th {\n",
       "        text-align: right;\n",
       "    }\n",
       "</style>\n",
       "<table border=\"1\" class=\"dataframe\">\n",
       "  <thead>\n",
       "    <tr style=\"text-align: right;\">\n",
       "      <th></th>\n",
       "      <th>n</th>\n",
       "      <th>p</th>\n",
       "      <th>test stat</th>\n",
       "    </tr>\n",
       "  </thead>\n",
       "  <tbody>\n",
       "    <tr>\n",
       "      <th>PG</th>\n",
       "      <td>528.0</td>\n",
       "      <td>2.922066e-62</td>\n",
       "      <td>283.375970</td>\n",
       "    </tr>\n",
       "    <tr>\n",
       "      <th>R</th>\n",
       "      <td>1730.0</td>\n",
       "      <td>0.000000e+00</td>\n",
       "      <td>1442.690580</td>\n",
       "    </tr>\n",
       "    <tr>\n",
       "      <th>G</th>\n",
       "      <td>88.0</td>\n",
       "      <td>1.655291e-13</td>\n",
       "      <td>58.859259</td>\n",
       "    </tr>\n",
       "    <tr>\n",
       "      <th>PG-13</th>\n",
       "      <td>1454.0</td>\n",
       "      <td>4.040370e-269</td>\n",
       "      <td>1235.998108</td>\n",
       "    </tr>\n",
       "  </tbody>\n",
       "</table>\n",
       "</div>"
      ],
      "text/plain": [
       "            n              p    test stat\n",
       "PG      528.0   2.922066e-62   283.375970\n",
       "R      1730.0   0.000000e+00  1442.690580\n",
       "G        88.0   1.655291e-13    58.859259\n",
       "PG-13  1454.0  4.040370e-269  1235.998108"
      ]
     },
     "execution_count": 7,
     "metadata": {},
     "output_type": "execute_result"
    }
   ],
   "source": [
    "## Running normal test on each group and confirming there are >15 in each group\n",
    "norm_results = {}\n",
    "for i, data in groups.items():\n",
    "    \n",
    "    ## Use stats.normaltest for samples > 20\n",
    "    if len(data) >= 15:\n",
    "        stat, p = stats.normaltest(data)\n",
    "        \n",
    "    ## Use stats.shapiro for samples < 20\n",
    "    else:\n",
    "        stat, p = stats.shapiro(data)\n",
    "        \n",
    "    ## save the p val, test statistic, and the size of the group\n",
    "    norm_results[i] = {'n': len(data),\n",
    "                             'p':p,\n",
    "                             'test stat':stat}\n",
    "## convert to a dataframe\n",
    "norm_results_df = pd.DataFrame(norm_results).T\n",
    "norm_results_df"
   ]
  },
  {
   "cell_type": "code",
   "execution_count": 8,
   "id": "b8be676d",
   "metadata": {},
   "outputs": [
    {
     "data": {
      "text/html": [
       "<div>\n",
       "<style scoped>\n",
       "    .dataframe tbody tr th:only-of-type {\n",
       "        vertical-align: middle;\n",
       "    }\n",
       "\n",
       "    .dataframe tbody tr th {\n",
       "        vertical-align: top;\n",
       "    }\n",
       "\n",
       "    .dataframe thead th {\n",
       "        text-align: right;\n",
       "    }\n",
       "</style>\n",
       "<table border=\"1\" class=\"dataframe\">\n",
       "  <thead>\n",
       "    <tr style=\"text-align: right;\">\n",
       "      <th></th>\n",
       "      <th>n</th>\n",
       "      <th>p</th>\n",
       "      <th>test stat</th>\n",
       "      <th>sig</th>\n",
       "    </tr>\n",
       "  </thead>\n",
       "  <tbody>\n",
       "    <tr>\n",
       "      <th>PG</th>\n",
       "      <td>528.0</td>\n",
       "      <td>2.922066e-62</td>\n",
       "      <td>283.375970</td>\n",
       "      <td>True</td>\n",
       "    </tr>\n",
       "    <tr>\n",
       "      <th>R</th>\n",
       "      <td>1730.0</td>\n",
       "      <td>0.000000e+00</td>\n",
       "      <td>1442.690580</td>\n",
       "      <td>True</td>\n",
       "    </tr>\n",
       "    <tr>\n",
       "      <th>G</th>\n",
       "      <td>88.0</td>\n",
       "      <td>1.655291e-13</td>\n",
       "      <td>58.859259</td>\n",
       "      <td>True</td>\n",
       "    </tr>\n",
       "    <tr>\n",
       "      <th>PG-13</th>\n",
       "      <td>1454.0</td>\n",
       "      <td>4.040370e-269</td>\n",
       "      <td>1235.998108</td>\n",
       "      <td>True</td>\n",
       "    </tr>\n",
       "  </tbody>\n",
       "</table>\n",
       "</div>"
      ],
      "text/plain": [
       "            n              p    test stat   sig\n",
       "PG      528.0   2.922066e-62   283.375970  True\n",
       "R      1730.0   0.000000e+00  1442.690580  True\n",
       "G        88.0   1.655291e-13    58.859259  True\n",
       "PG-13  1454.0  4.040370e-269  1235.998108  True"
      ]
     },
     "execution_count": 8,
     "metadata": {},
     "output_type": "execute_result"
    }
   ],
   "source": [
    "### checking sig with pandas \n",
    "norm_results_df['sig'] = norm_results_df['p'] < .05 \n",
    "norm_results_df"
   ]
  },
  {
   "cell_type": "markdown",
   "id": "d511e3d8",
   "metadata": {},
   "source": [
    "- None of the groups have a normal distribution, but since the sample sizes are all larger than 20 we can ignore this assumption."
   ]
  },
  {
   "cell_type": "markdown",
   "id": "a73aa289",
   "metadata": {},
   "source": [
    "#### Equal Variance"
   ]
  },
  {
   "cell_type": "code",
   "execution_count": 9,
   "id": "783b125d",
   "metadata": {},
   "outputs": [
    {
     "data": {
      "text/plain": [
       "LeveneResult(statistic=71.4033653887217, pvalue=6.418997812246123e-45)"
      ]
     },
     "execution_count": 9,
     "metadata": {},
     "output_type": "execute_result"
    }
   ],
   "source": [
    "stats.levene(*groups.values())"
   ]
  },
  {
   "cell_type": "markdown",
   "id": "8d3cff73",
   "metadata": {},
   "source": [
    "- The groups do not have equal variance, so we will use stats.kruskal."
   ]
  },
  {
   "cell_type": "markdown",
   "id": "45abd569",
   "metadata": {},
   "source": [
    "### Kruskal Test"
   ]
  },
  {
   "cell_type": "code",
   "execution_count": 10,
   "id": "c657f2bb",
   "metadata": {},
   "outputs": [
    {
     "data": {
      "text/plain": [
       "KruskalResult(statistic=423.8223485498064, pvalue=1.53002826449322e-91)"
      ]
     },
     "execution_count": 10,
     "metadata": {},
     "output_type": "execute_result"
    }
   ],
   "source": [
    "result = stats.kruskal( *groups.values())\n",
    "result"
   ]
  },
  {
   "cell_type": "markdown",
   "id": "c433c23c",
   "metadata": {},
   "source": [
    "### Conclusion\n",
    "\n",
    "- Since our p-value for the Kruskal test is < .05, we reject the null hypothesis and accept the alternative hypothesis that there is a significant difference in revenue generation between different MPAA ratings. To find out which specific ratings are significantly different, we will perform a Tukey pairwise comparison test."
   ]
  },
  {
   "cell_type": "code",
   "execution_count": 15,
   "id": "067fdd93",
   "metadata": {},
   "outputs": [
    {
     "data": {
      "text/html": [
       "<table class=\"simpletable\">\n",
       "<caption>Multiple Comparison of Means - Tukey HSD, FWER=0.05</caption>\n",
       "<tr>\n",
       "  <th>group1</th> <th>group2</th>    <th>meandiff</th>      <th>p-adj</th>      <th>lower</th>           <th>upper</th>     <th>reject</th>\n",
       "</tr>\n",
       "<tr>\n",
       "     <td>G</td>     <td>PG</td>    <td>14717034.5341</td>  <td>0.9216</td> <td>-45088324.6546</td>   <td>74522393.7228</td>  <td>False</td>\n",
       "</tr>\n",
       "<tr>\n",
       "     <td>G</td>    <td>PG-13</td>  <td>-8865563.8686</td>  <td>0.9784</td> <td>-65885495.4502</td>   <td>48154367.713</td>   <td>False</td>\n",
       "</tr>\n",
       "<tr>\n",
       "     <td>G</td>      <td>R</td>   <td>-110356456.8848</td>   <td>0.0</td>  <td>-167116222.858</td>  <td>-53596690.9116</td>  <td>True</td> \n",
       "</tr>\n",
       "<tr>\n",
       "    <td>PG</td>    <td>PG-13</td> <td>-23582598.4027</td>   <td>0.099</td>  <td>-49973893.625</td>   <td>2808696.8196</td>   <td>False</td>\n",
       "</tr>\n",
       "<tr>\n",
       "    <td>PG</td>      <td>R</td>   <td>-125073491.4189</td>   <td>0.0</td>  <td>-150897877.1671</td> <td>-99249105.6707</td>  <td>True</td> \n",
       "</tr>\n",
       "<tr>\n",
       "   <td>PG-13</td>    <td>R</td>   <td>-101490893.0162</td>   <td>0.0</td>  <td>-119970354.8362</td> <td>-83011431.1962</td>  <td>True</td> \n",
       "</tr>\n",
       "</table>"
      ],
      "text/plain": [
       "<class 'statsmodels.iolib.table.SimpleTable'>"
      ]
     },
     "execution_count": 15,
     "metadata": {},
     "output_type": "execute_result"
    }
   ],
   "source": [
    "## saving the values as revenue and the labels to the certification\n",
    "values = df['revenue']\n",
    "labels = df['certification']\n",
    "\n",
    "## performing tukey's multiple comparison test and displaying the summary\n",
    "tukeys_results = pairwise_tukeyhsd(values,labels)\n",
    "tukeys_results.summary()"
   ]
  },
  {
   "cell_type": "code",
   "execution_count": 16,
   "id": "3b3bc6cb",
   "metadata": {},
   "outputs": [
    {
     "data": {
      "image/png": "[encoded data removed]",
      "text/plain": [
       "<Figure size 432x288 with 1 Axes>"
      ]
     },
     "metadata": {
      "needs_background": "light"
     },
     "output_type": "display_data"
    }
   ],
   "source": [
    "sns.barplot(data=df, x='certification',y='revenue');"
   ]
  },
  {
   "cell_type": "markdown",
   "id": "e1d84a36",
   "metadata": {},
   "source": [
    "- Based on these results, we can see that there is a significant difference between G and R rated movies, between PG and R rated movies, and between PG-13 and R rated movies. In combination with the barplot, it is clear that R rated movies generate significantly lower revenue than the rest."
   ]
  },
  {
   "cell_type": "code",
   "execution_count": null,
   "id": "86928ad0",
   "metadata": {},
   "outputs": [],
   "source": []
  }
 ],
 "metadata": {
  "kernelspec": {
   "display_name": "Python (dojo-env)",
   "language": "python",
   "name": "dojo-env"
  },
  "language_info": {
   "codemirror_mode": {
    "name": "ipython",
    "version": 3
   },
   "file_extension": ".py",
   "mimetype": "text/x-python",
   "name": "python",
   "nbconvert_exporter": "python",
   "pygments_lexer": "ipython3",
   "version": "3.9.12"
  },
  "toc": {
   "base_numbering": 1,
   "nav_menu": {},
   "number_sections": true,
   "sideBar": true,
   "skip_h1_title": false,
   "title_cell": "Table of Contents",
   "title_sidebar": "Contents",
   "toc_cell": false,
   "toc_position": {},
   "toc_section_display": true,
   "toc_window_display": false
  }
 },
 "nbformat": 4,
 "nbformat_minor": 5
}
